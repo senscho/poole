{
 "cells": [
  {
   "cell_type": "code",
   "execution_count": 4,
   "metadata": {},
   "outputs": [],
   "source": [
    "# # python 3\n",
    "# import tkinter as tk\n",
    "\n",
    "# python 2\n",
    "import Tkinter as tk\n",
    "import PIL.Image\n",
    "import PIL.ImageTk\n",
    "\n",
    "root = tk.Tk()\n",
    "# root = tk.Toplevel()\n",
    "logo = tk.PhotoImage(file=\"test_img.gif\")\n",
    "# im = PIL.Image.open(\"test_img.png\")\n",
    "# logo = PIL.ImageTk.PhotoImage(im)\n",
    "\n",
    "txt = \"\"\"Hello\n",
    "I am Jihyun.\n",
    "Who are you\"\"\"\n",
    "\n",
    "# w1 = tk.Label(root, text=txt, justify=tk.LEFT,padx=10).pack(side=\"left\")\n",
    "# w2 = tk.Label(root, image=logo).pack(side=\"right\")\n",
    "label = tk.Label(root, compound = tk.BOTTOM, text=txt, image=logo, fg=\"white\", bg=\"black\")\n",
    "label.pack()\n",
    "\n",
    "cnt = 0\n",
    "def counter(label):\n",
    "    def count():\n",
    "        global cnt\n",
    "        label.config(text=str(cnt))\n",
    "        label.after(1000,count)\n",
    "        cnt += 1\n",
    "    count()\n",
    "\n",
    "counter(label)\n",
    "\n",
    "button = tk.Button(root, text='Stop',width=25)\n",
    "button.pack()\n",
    "def bt1(event):\n",
    "    print('bt1')\n",
    "\n",
    "def db1(event):\n",
    "    print('db1')\n",
    "\n",
    "def mo(event):\n",
    "    print('%d, %d' %(event.x,event.y))\n",
    "\n",
    "\n",
    "\n",
    "\n",
    "button.bind('<Button-1>', bt1)\n",
    "button.bind('<Double-1>', db1)\n",
    "button.bind('<Motion>', mo)\n",
    "\n",
    "\n",
    "root.mainloop()\n",
    "# help(tk.Label.pack)"
   ]
  },
  {
   "cell_type": "code",
   "execution_count": 5,
   "metadata": {
    "collapsed": true
   },
   "outputs": [
    {
     "name": "stdout",
     "output_type": "stream",
     "text": [
      "1\n",
      "2\n",
      "3\n",
      "4\n",
      "5\n",
      "0\n"
     ]
    }
   ],
   "source": [
    "import Tkinter as tk\n",
    "\n",
    "root = tk.Tk()\n",
    "\n",
    "v = tk.IntVar()\n",
    "v.set(0)  # initializing the choice, i.e. Python\n",
    "\n",
    "languages = [\n",
    "    (\"Swift\"),\n",
    "    (\"Python\"),\n",
    "    (\"Perl\"),\n",
    "    (\"Java\"),\n",
    "    (\"C++\"),\n",
    "    (\"C\")\n",
    "]\n",
    "\n",
    "def ShowChoice():\n",
    "    print(v.get())\n",
    "\n",
    "tk.Label(root, \n",
    "         text=\"\"\"Choose your favourite \n",
    "programming language:\"\"\",\n",
    "         justify = tk.LEFT,\n",
    "         padx = 20).pack()\n",
    "\n",
    "for val, language in enumerate(languages):\n",
    "\n",
    "    tk.Radiobutton(root, \n",
    "                  text=language,\n",
    "                  padx = 20, \n",
    "                  variable=v, \n",
    "                  command=ShowChoice,\n",
    "                  value=val).pack(anchor=tk.W)\n",
    "\n",
    "\n",
    "root.mainloop()\n",
    "\n"
   ]
  }
 ],
 "metadata": {
  "kernelspec": {
   "display_name": "Python 2",
   "language": "python",
   "name": "python2"
  },
  "language_info": {
   "codemirror_mode": {
    "name": "ipython",
    "version": 2
   },
   "file_extension": ".py",
   "mimetype": "text/x-python",
   "name": "python",
   "nbconvert_exporter": "python",
   "pygments_lexer": "ipython2",
   "version": "2.7.13"
  }
 },
 "nbformat": 4,
 "nbformat_minor": 2
}
